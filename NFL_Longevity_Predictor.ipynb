{
  "nbformat": 4,
  "nbformat_minor": 0,
  "metadata": {
    "colab": {
      "provenance": [],
      "include_colab_link": true
    },
    "kernelspec": {
      "name": "python3",
      "display_name": "Python 3"
    },
    "language_info": {
      "name": "python"
    }
  },
  "cells": [
    {
      "cell_type": "markdown",
      "metadata": {
        "id": "view-in-github",
        "colab_type": "text"
      },
      "source": [
        "<a href=\"https://colab.research.google.com/github/ahmedraufk/nfl-longevity-predictor/blob/main/NFL_Longevity_Predictor.ipynb\" target=\"_parent\"><img src=\"https://colab.research.google.com/assets/colab-badge.svg\" alt=\"Open In Colab\"/></a>"
      ]
    },
    {
      "cell_type": "markdown",
      "source": [
        "# **Longevity Predictor For the NFL Combine**"
      ],
      "metadata": {
        "id": "OUMIN_QCHr7q"
      }
    },
    {
      "cell_type": "markdown",
      "source": [
        "Importing Libraries"
      ],
      "metadata": {
        "id": "XwTX1IMfIeHu"
      }
    },
    {
      "cell_type": "code",
      "execution_count": 1,
      "metadata": {
        "id": "GPP_XImQHpG5"
      },
      "outputs": [],
      "source": [
        "import pandas as pd\n",
        "from sklearn import model_selection\n",
        "from sklearn import svm\n",
        "import lightgbm as lgb\n",
        "from sklearn.preprocessing import StandardScaler\n",
        "from google.colab import drive\n",
        "from sklearn.ensemble import RandomForestRegressor\n",
        "import matplotlib.pyplot as plt\n",
        "import seaborn as sns\n",
        "from sklearn.preprocessing import OneHotEncoder"
      ]
    },
    {
      "cell_type": "markdown",
      "source": [
        "Loading DataSets"
      ],
      "metadata": {
        "id": "8rEkZVxIMQOv"
      }
    },
    {
      "cell_type": "code",
      "source": [
        "drive.mount('/content/drive/', force_remount=True)"
      ],
      "metadata": {
        "id": "KFvp4HVmKjcn",
        "colab": {
          "base_uri": "https://localhost:8080/"
        },
        "outputId": "eac36aff-7bf2-4574-bef9-2f65ba76cd78"
      },
      "execution_count": 2,
      "outputs": [
        {
          "output_type": "stream",
          "name": "stdout",
          "text": [
            "Mounted at /content/drive/\n"
          ]
        }
      ]
    },
    {
      "cell_type": "code",
      "source": [
        "rb_df = pd.read_csv('/content/drive/MyDrive/MLProject/data_rb.csv')\n",
        "qb_df = pd.read_csv('/content/drive/MyDrive/MLProject/data_qb.csv')\n",
        "skill_df = pd.read_csv('/content/drive/MyDrive/MLProject/data_skill.csv')\n",
        "trenches_df = pd.read_csv('/content/drive/MyDrive/MLProject/data_trenches.csv')\n",
        "lineb_df = pd.read_csv('/content/drive/MyDrive/MLProject/data_linebackers.csv')\n",
        "\n",
        "\n"
      ],
      "metadata": {
        "id": "irWmx8OeNgaF"
      },
      "execution_count": 3,
      "outputs": []
    },
    {
      "cell_type": "markdown",
      "source": [],
      "metadata": {
        "id": "EST76AIXtKjN"
      }
    },
    {
      "cell_type": "markdown",
      "source": [
        "\n",
        "#QB Data Analysis"
      ],
      "metadata": {
        "id": "XfOOGzh7tLe5"
      }
    },
    {
      "cell_type": "code",
      "source": [
        "#Data Analysis \n",
        "\n",
        "#qb_df = qb_df.drop(columns = ['Index','Name','Position'])\n",
        "#normalized_qb_df=(qb_df-qb_df.min())/(qb_df.max()-qb_df.min())\n",
        "#qb_df = qb_df[qb_df.Games != 0]\n",
        "print(qb_df)"
      ],
      "metadata": {
        "colab": {
          "base_uri": "https://localhost:8080/"
        },
        "outputId": "2d7fb381-9c9e-4228-bab6-752670901734",
        "id": "9IkGnaHb8Fgj"
      },
      "execution_count": 4,
      "outputs": [
        {
          "output_type": "stream",
          "name": "stdout",
          "text": [
            "     Index            Name Position  Height  Weight  Forty  Vertical  \\\n",
            "0        0      Alex Brink       QB      74     211   4.96      28.0   \n",
            "1        1     Andrew Luck       QB      76     234   4.59      36.0   \n",
            "2        2     Andy Dalton       QB      74     215   4.83      29.5   \n",
            "3        3    Austin Davis       QB      74     219   4.69      31.0   \n",
            "4        4  Blaine Gabbert       QB      76     234   4.61      33.5   \n",
            "..     ...             ...      ...     ...     ...    ...       ...   \n",
            "102    102       Tony Pike       QB      78     223   4.90      28.5   \n",
            "103    103       Tony Romo       QB      74     230   5.01      30.0   \n",
            "104    104     Tyler Palko       QB      73     215   4.83      31.5   \n",
            "105    105    Tyrod Taylor       QB      73     217   4.47      37.5   \n",
            "106    106    Zac Robinson       QB      74     214   4.68      35.0   \n",
            "\n",
            "     Broadjump  Cone  Shuttle  Games  Probowls  \n",
            "0          112  7.22     4.19      0         0  \n",
            "1          124  6.80     4.28     86         4  \n",
            "2          106  6.93     4.27    159         3  \n",
            "3          109  6.73     4.11      0         0  \n",
            "4          120  6.84     4.26     66         0  \n",
            "..         ...   ...      ...    ...       ...  \n",
            "102        108  7.06     4.53      1         0  \n",
            "103        105  7.11     4.20      0         0  \n",
            "104        112  7.05     4.36      0         0  \n",
            "105        126  6.78     4.09     79         1  \n",
            "106        110  7.24     4.40      0         0  \n",
            "\n",
            "[107 rows x 12 columns]\n"
          ]
        }
      ]
    },
    {
      "cell_type": "markdown",
      "source": [
        "# New Section"
      ],
      "metadata": {
        "id": "Uwb9DZQatUtH"
      }
    },
    {
      "cell_type": "code",
      "source": [],
      "metadata": {
        "id": "yXOwFT7rtKTn"
      },
      "execution_count": null,
      "outputs": []
    },
    {
      "cell_type": "code",
      "source": [
        "qb_copy = qb_df.copy()\n",
        "trenches_copy = trenches_df.copy()\n",
        "skills_copy = skill_df.copy()\n",
        "lineb_copy = lineb_df.copy()\n",
        "rb_copy = rb_df.copy()\n",
        "\n",
        "trenches_copy = trenches_copy.drop(columns =['Benchpress','Index'])\n",
        "skills_copy = skills_copy.drop(columns = ['Benchpress','Index'])\n",
        "lineb_copy = lineb_copy.drop(columns = ['Benchpress','Index'])\n",
        "rb_copy = rb_copy.drop(columns = ['Benchpress','Index'])\n",
        "qb_copy = qb_copy.drop(columns = ['Index'])\n",
        "\n",
        "df = pd.concat([trenches_copy,skills_copy,lineb_copy,rb_copy,qb_copy])\n",
        "\n",
        "\n",
        "df = df[df.Games != 0]\n",
        "\n",
        "print(df)\n",
        "#sns.pairplot(df,hue = \"Games\",height = 2, diag_kind = \"kde\")\n",
        "#encoder = OneHotEncoder(handle_unknown='ignore')\n",
        "\n",
        "\"\"\"\n",
        "encoder_df = pd.DataFrame(encoder.fit_transform(df[['Position']]).toarray())\n",
        "encoder_df.columns = encoder.get_feature_names_out()\n",
        "df = df.join(encoder_df)\n",
        "print(df)\n",
        "df[df.columns[1:]].corr()['Games'][:].sort_values(ascending=False).to_frame()\n",
        "\"\"\"\n",
        "df[df.columns[1:]].corr()['Probowls'][:].sort_values(ascending=False).to_frame()\n",
        "plt.hist(df['Games'],bins = 6)[1]\n",
        "#plt.show()"
      ],
      "metadata": {
        "colab": {
          "base_uri": "https://localhost:8080/",
          "height": 755
        },
        "id": "OYleB_3VWDcL",
        "outputId": "2aaa0708-c464-44d0-d4b6-9e148be6e514"
      },
      "execution_count": 5,
      "outputs": [
        {
          "output_type": "stream",
          "name": "stdout",
          "text": [
            "              Name Position  Height  Weight  Forty  Vertical  Broadjump  Cone  \\\n",
            "1     Aaron Fields       DE      76     243   4.76      34.0      115.0  7.51   \n",
            "2     Aaron Maybin       DE      76     249   4.64      38.0      124.0  7.52   \n",
            "3    Aaron Schobel       DE      76     263   4.75      38.0      119.0  7.16   \n",
            "4    Adam Carriker       DE      78     296   4.90      33.5      110.0  7.06   \n",
            "7       Adam Koets       OT      77     298   5.08      32.0      106.0  7.44   \n",
            "..             ...      ...     ...     ...    ...       ...        ...   ...   \n",
            "98       Tim Tebow       QB      75     236   4.71      38.5      115.0  6.66   \n",
            "99      Todd Husak       QB      75     216   5.20      27.5       99.0  7.17   \n",
            "100      Tom Brady       QB      76     211   5.28      24.5       99.0  7.20   \n",
            "102      Tony Pike       QB      78     223   4.90      28.5      108.0  7.06   \n",
            "105   Tyrod Taylor       QB      73     217   4.47      37.5      126.0  6.78   \n",
            "\n",
            "     Shuttle  Games  Probowls  \n",
            "1       4.56      3         0  \n",
            "2       4.38     48         0  \n",
            "3       4.03    133         2  \n",
            "4       4.18     65         0  \n",
            "7       4.47     11         0  \n",
            "..       ...    ...       ...  \n",
            "98      4.17     35         0  \n",
            "99      4.41      1         0  \n",
            "100     4.38    328        15  \n",
            "102     4.53      1         0  \n",
            "105     4.09     79         1  \n",
            "\n",
            "[1490 rows x 11 columns]\n"
          ]
        },
        {
          "output_type": "execute_result",
          "data": {
            "text/plain": [
              "array([  1. ,  55.5, 110. , 164.5, 219. , 273.5, 328. ])"
            ]
          },
          "metadata": {},
          "execution_count": 5
        },
        {
          "output_type": "display_data",
          "data": {
            "text/plain": [
              "<Figure size 432x288 with 1 Axes>"
            ],
            "image/png": "[encoded data removed]"
          },
          "metadata": {
            "needs_background": "light"
          }
        }
      ]
    },
    {
      "cell_type": "code",
      "source": [
        "def make_bins(df):\n",
        "   label_names = [\"0-50\", \"50-100\",\"100-150\",\"150-200\",\"200-330\",\">330\" ]\n",
        "   cut_points = [  0 ,  55, 110. , 164, 219. , 273,328]\n",
        "   df[\"Games_Range\"] = pd.cut(df[\"Games\"], cut_points, labels=label_names)\n",
        "   return df\n",
        "df = make_bins(df)\n",
        "\n",
        "print(df)\n",
        "df.to_csv(r'/content/drive/MyDrive/MLProject/data_all.csv')"
      ],
      "metadata": {
        "colab": {
          "base_uri": "https://localhost:8080/"
        },
        "id": "hTKOinZiGoR8",
        "outputId": "8665cd8f-d337-4117-8003-d12575619daf"
      },
      "execution_count": 6,
      "outputs": [
        {
          "output_type": "stream",
          "name": "stdout",
          "text": [
            "              Name Position  Height  Weight  Forty  Vertical  Broadjump  Cone  \\\n",
            "1     Aaron Fields       DE      76     243   4.76      34.0      115.0  7.51   \n",
            "2     Aaron Maybin       DE      76     249   4.64      38.0      124.0  7.52   \n",
            "3    Aaron Schobel       DE      76     263   4.75      38.0      119.0  7.16   \n",
            "4    Adam Carriker       DE      78     296   4.90      33.5      110.0  7.06   \n",
            "7       Adam Koets       OT      77     298   5.08      32.0      106.0  7.44   \n",
            "..             ...      ...     ...     ...    ...       ...        ...   ...   \n",
            "98       Tim Tebow       QB      75     236   4.71      38.5      115.0  6.66   \n",
            "99      Todd Husak       QB      75     216   5.20      27.5       99.0  7.17   \n",
            "100      Tom Brady       QB      76     211   5.28      24.5       99.0  7.20   \n",
            "102      Tony Pike       QB      78     223   4.90      28.5      108.0  7.06   \n",
            "105   Tyrod Taylor       QB      73     217   4.47      37.5      126.0  6.78   \n",
            "\n",
            "     Shuttle  Games  Probowls Games_Range  \n",
            "1       4.56      3         0        0-50  \n",
            "2       4.38     48         0        0-50  \n",
            "3       4.03    133         2     100-150  \n",
            "4       4.18     65         0      50-100  \n",
            "7       4.47     11         0        0-50  \n",
            "..       ...    ...       ...         ...  \n",
            "98      4.17     35         0        0-50  \n",
            "99      4.41      1         0        0-50  \n",
            "100     4.38    328        15        >330  \n",
            "102     4.53      1         0        0-50  \n",
            "105     4.09     79         1      50-100  \n",
            "\n",
            "[1490 rows x 12 columns]\n"
          ]
        }
      ]
    },
    {
      "cell_type": "code",
      "source": [
        "df = df.reset_index()\n",
        "print(df)"
      ],
      "metadata": {
        "colab": {
          "base_uri": "https://localhost:8080/"
        },
        "id": "Mb_Prck9QJDk",
        "outputId": "2e477386-1dae-416c-8920-c2fc521d23f1"
      },
      "execution_count": 7,
      "outputs": [
        {
          "output_type": "stream",
          "name": "stdout",
          "text": [
            "      index           Name Position  Height  Weight  Forty  Vertical  \\\n",
            "0         1   Aaron Fields       DE      76     243   4.76      34.0   \n",
            "1         2   Aaron Maybin       DE      76     249   4.64      38.0   \n",
            "2         3  Aaron Schobel       DE      76     263   4.75      38.0   \n",
            "3         4  Adam Carriker       DE      78     296   4.90      33.5   \n",
            "4         7     Adam Koets       OT      77     298   5.08      32.0   \n",
            "...     ...            ...      ...     ...     ...    ...       ...   \n",
            "1485     98      Tim Tebow       QB      75     236   4.71      38.5   \n",
            "1486     99     Todd Husak       QB      75     216   5.20      27.5   \n",
            "1487    100      Tom Brady       QB      76     211   5.28      24.5   \n",
            "1488    102      Tony Pike       QB      78     223   4.90      28.5   \n",
            "1489    105   Tyrod Taylor       QB      73     217   4.47      37.5   \n",
            "\n",
            "      Broadjump  Cone  Shuttle  Games  Probowls Games_Range  \n",
            "0         115.0  7.51     4.56      3         0        0-50  \n",
            "1         124.0  7.52     4.38     48         0        0-50  \n",
            "2         119.0  7.16     4.03    133         2     100-150  \n",
            "3         110.0  7.06     4.18     65         0      50-100  \n",
            "4         106.0  7.44     4.47     11         0        0-50  \n",
            "...         ...   ...      ...    ...       ...         ...  \n",
            "1485      115.0  6.66     4.17     35         0        0-50  \n",
            "1486       99.0  7.17     4.41      1         0        0-50  \n",
            "1487       99.0  7.20     4.38    328        15        >330  \n",
            "1488      108.0  7.06     4.53      1         0        0-50  \n",
            "1489      126.0  6.78     4.09     79         1      50-100  \n",
            "\n",
            "[1490 rows x 13 columns]\n"
          ]
        }
      ]
    },
    {
      "cell_type": "code",
      "source": [
        "\n",
        "#sns.pairplot(df, hue=\"Games_Range\", height=2, diag_kind=\"kde\")"
      ],
      "metadata": {
        "id": "37b0gxPsLRjM"
      },
      "execution_count": null,
      "outputs": []
    },
    {
      "cell_type": "markdown",
      "source": [
        "##Model"
      ],
      "metadata": {
        "id": "4JvtKDqSrMhm"
      }
    },
    {
      "cell_type": "code",
      "source": [
        "from sklearn import preprocessing\n",
        "  \n",
        "# label_encoder object knows how to understand word labels.\n",
        "label_encoder = preprocessing.LabelEncoder()\n",
        "  \n",
        "# Encode labels in column 'species'.\n",
        "df['Games_Range_Encoded']= label_encoder.fit_transform(df['Games_Range'])\n",
        "\n",
        "print(df)"
      ],
      "metadata": {
        "colab": {
          "base_uri": "https://localhost:8080/"
        },
        "id": "EJJIXp8huAUG",
        "outputId": "f4598076-1deb-40e6-ca99-d8afd0b7795d"
      },
      "execution_count": 8,
      "outputs": [
        {
          "output_type": "stream",
          "name": "stdout",
          "text": [
            "      index           Name Position  Height  Weight  Forty  Vertical  \\\n",
            "0         1   Aaron Fields       DE      76     243   4.76      34.0   \n",
            "1         2   Aaron Maybin       DE      76     249   4.64      38.0   \n",
            "2         3  Aaron Schobel       DE      76     263   4.75      38.0   \n",
            "3         4  Adam Carriker       DE      78     296   4.90      33.5   \n",
            "4         7     Adam Koets       OT      77     298   5.08      32.0   \n",
            "...     ...            ...      ...     ...     ...    ...       ...   \n",
            "1485     98      Tim Tebow       QB      75     236   4.71      38.5   \n",
            "1486     99     Todd Husak       QB      75     216   5.20      27.5   \n",
            "1487    100      Tom Brady       QB      76     211   5.28      24.5   \n",
            "1488    102      Tony Pike       QB      78     223   4.90      28.5   \n",
            "1489    105   Tyrod Taylor       QB      73     217   4.47      37.5   \n",
            "\n",
            "      Broadjump  Cone  Shuttle  Games  Probowls Games_Range  \\\n",
            "0         115.0  7.51     4.56      3         0        0-50   \n",
            "1         124.0  7.52     4.38     48         0        0-50   \n",
            "2         119.0  7.16     4.03    133         2     100-150   \n",
            "3         110.0  7.06     4.18     65         0      50-100   \n",
            "4         106.0  7.44     4.47     11         0        0-50   \n",
            "...         ...   ...      ...    ...       ...         ...   \n",
            "1485      115.0  6.66     4.17     35         0        0-50   \n",
            "1486       99.0  7.17     4.41      1         0        0-50   \n",
            "1487       99.0  7.20     4.38    328        15        >330   \n",
            "1488      108.0  7.06     4.53      1         0        0-50   \n",
            "1489      126.0  6.78     4.09     79         1      50-100   \n",
            "\n",
            "      Games_Range_Encoded  \n",
            "0                       0  \n",
            "1                       0  \n",
            "2                       1  \n",
            "3                       4  \n",
            "4                       0  \n",
            "...                   ...  \n",
            "1485                    0  \n",
            "1486                    0  \n",
            "1487                    5  \n",
            "1488                    0  \n",
            "1489                    4  \n",
            "\n",
            "[1490 rows x 14 columns]\n"
          ]
        }
      ]
    },
    {
      "cell_type": "markdown",
      "source": [
        "##Feature Selection\n"
      ],
      "metadata": {
        "id": "UMTPSHdXjVKZ"
      }
    },
    {
      "cell_type": "code",
      "source": [
        "qb_features = ['Height','Weight','Forty','Cone','Shuttle','Broadjump']\n",
        "from sklearn.feature_selection import SelectKBest, chi2\n",
        "\n",
        "#qb_features = ['Vertical']\n",
        "#Extract Features\n",
        "X = df.loc[:,qb_features].values\n",
        "Y = df.loc[:,['Games_Range']].values\n",
        "#X = df[qb_features]\n",
        "print(X.shape)\n",
        "#Y = df['Games']\n",
        "#print(df['Games'])\n",
        "#X = SelectKBest(chi2, k=4).fit_transform(X, Y)\n",
        "print(Y)\n"
      ],
      "metadata": {
        "id": "QtyPQ2o6rRt3",
        "colab": {
          "base_uri": "https://localhost:8080/"
        },
        "outputId": "8614c355-efff-46c3-8151-afdaae771abf"
      },
      "execution_count": 9,
      "outputs": [
        {
          "output_type": "stream",
          "name": "stdout",
          "text": [
            "(1490, 6)\n",
            "[['0-50']\n",
            " ['0-50']\n",
            " ['100-150']\n",
            " ...\n",
            " ['>330']\n",
            " ['0-50']\n",
            " ['50-100']]\n"
          ]
        }
      ]
    },
    {
      "cell_type": "markdown",
      "source": [
        "Training Split\n"
      ],
      "metadata": {
        "id": "PUpgvRNyVptN"
      }
    },
    {
      "cell_type": "code",
      "source": [
        "#Model_selection and train/test Split\n",
        "X_train,X_test,Y_train,Y_test = model_selection.train_test_split(X,Y,test_size = 0.2)"
      ],
      "metadata": {
        "id": "9L5TpKdXKwKd"
      },
      "execution_count": 10,
      "outputs": []
    },
    {
      "cell_type": "markdown",
      "source": [
        "Normalizing Data"
      ],
      "metadata": {
        "id": "J4f8ZltBj3pD"
      }
    },
    {
      "cell_type": "code",
      "source": [
        "X_sc = StandardScaler()\n",
        "#Y_sc = StandardScaler()\n",
        "X_train_norm = X_sc.fit_transform(X_train)\n",
        "X_test_norm = X_sc.transform(X_test)\n",
        "#X_test_norm = SelectKBest(chi2, k=4).fit_transform(X_train, Y)\n",
        "print(X_train_norm.shape)\n"
      ],
      "metadata": {
        "id": "ZI6PEzmetUUz",
        "colab": {
          "base_uri": "https://localhost:8080/"
        },
        "outputId": "40190d6a-2570-4963-fa65-62284e66db76"
      },
      "execution_count": 11,
      "outputs": [
        {
          "output_type": "stream",
          "name": "stdout",
          "text": [
            "(1192, 6)\n"
          ]
        }
      ]
    },
    {
      "cell_type": "markdown",
      "source": [
        "Dimension Reduction Using PCA"
      ],
      "metadata": {
        "id": "ktRvxYBckCNF"
      }
    },
    {
      "cell_type": "code",
      "source": [
        "from sklearn.decomposition import PCA\n",
        "\n",
        "##PCA\n",
        "pca = PCA(n_components = 2)\n",
        "  \n",
        "X_train_norm = pca.fit_transform(X_train)\n",
        "X_test_norm = pca.transform(X_test)\n"
      ],
      "metadata": {
        "id": "2_GGg727kI-i"
      },
      "execution_count": 12,
      "outputs": []
    },
    {
      "cell_type": "markdown",
      "source": [
        "Training Models"
      ],
      "metadata": {
        "id": "vZHjr25VkGHv"
      }
    },
    {
      "cell_type": "code",
      "source": [
        "\n",
        "from sklearn.ensemble import RandomForestClassifier, RandomForestRegressor\n",
        "from sklearn.svm import SVC\n",
        "from sklearn.svm import SVR\n",
        "from sklearn.neural_network import MLPClassifier\n",
        "from sklearn.naive_bayes import GaussianNB\n",
        "from sklearn.cluster import KMeans\n",
        "from sklearn.neighbors import KNeighborsClassifier\n",
        "from sklearn.tree import DecisionTreeClassifier\n",
        "from sklearn.linear_model import LogisticRegression\n",
        "from sklearn.linear_model import SGDClassifier\n",
        "from sklearn.linear_model import RidgeClassifier\n",
        "from sklearn.linear_model import RidgeClassifier\n",
        "from sklearn.decomposition import PCA\n",
        "from sklearn.feature_selection import SelectKBest, chi2\n",
        "\n",
        "\n",
        "\n",
        "\n",
        "\n",
        "\n",
        "clf_ob = svm.SVC().fit(X_train_norm, Y_train.ravel())\n",
        "rfc_ob = RandomForestClassifier().fit(X_train_norm, Y_train.ravel())\n",
        "lg = LogisticRegression(max_iter = 3000).fit(X_train_norm,Y_train.ravel())\n",
        "gb = GaussianNB().fit(X_train_norm,Y_train.ravel())\n"
      ],
      "metadata": {
        "id": "yPs6xCvQoTu2"
      },
      "execution_count": 13,
      "outputs": []
    },
    {
      "cell_type": "code",
      "source": [
        "print(clf_ob.score(X_test_norm, Y_test))"
      ],
      "metadata": {
        "colab": {
          "base_uri": "https://localhost:8080/"
        },
        "id": "Qxg5n-jhvx6B",
        "outputId": "44d0f085-90a0-4608-c0c6-155351958b8c"
      },
      "execution_count": 14,
      "outputs": [
        {
          "output_type": "stream",
          "name": "stdout",
          "text": [
            "0.44966442953020136\n"
          ]
        }
      ]
    },
    {
      "cell_type": "code",
      "source": [
        "print(rfc_ob.score(X_test_norm, Y_test))"
      ],
      "metadata": {
        "colab": {
          "base_uri": "https://localhost:8080/"
        },
        "id": "ckuBNnt_zE9J",
        "outputId": "d9a40520-1e3e-4168-f920-c72e7302def3"
      },
      "execution_count": 15,
      "outputs": [
        {
          "output_type": "stream",
          "name": "stdout",
          "text": [
            "0.37919463087248323\n"
          ]
        }
      ]
    },
    {
      "cell_type": "code",
      "source": [
        "print(lg.score(X_test_norm, Y_test))"
      ],
      "metadata": {
        "colab": {
          "base_uri": "https://localhost:8080/"
        },
        "id": "OCzxvqQXzOK3",
        "outputId": "e1abacb3-2425-4f9a-8a7e-9ba5338892b5"
      },
      "execution_count": 16,
      "outputs": [
        {
          "output_type": "stream",
          "name": "stdout",
          "text": [
            "0.4429530201342282\n"
          ]
        }
      ]
    },
    {
      "cell_type": "code",
      "source": [
        "print(gb.score(X_test_norm, Y_test))"
      ],
      "metadata": {
        "colab": {
          "base_uri": "https://localhost:8080/"
        },
        "id": "0cAIcbI21EU7",
        "outputId": "97a14054-671c-4562-fff5-ece96748e2ed"
      },
      "execution_count": 17,
      "outputs": [
        {
          "output_type": "stream",
          "name": "stdout",
          "text": [
            "0.4463087248322148\n"
          ]
        }
      ]
    },
    {
      "cell_type": "markdown",
      "source": [
        "##Neural Network Model"
      ],
      "metadata": {
        "id": "_sswS_atmiBv"
      }
    },
    {
      "cell_type": "code",
      "source": [
        "from pickle import TRUE\n",
        "from sklearn.neural_network import MLPClassifier\n",
        "\n",
        "mlp = MLPClassifier(max_iter = 10000, solver = 'lbfgs', alpha = 1, hidden_layer_sizes=(50,50,50)).fit(X_test_norm,Y_test.ravel())\n",
        "print(mlp)"
      ],
      "metadata": {
        "colab": {
          "base_uri": "https://localhost:8080/"
        },
        "id": "hTOczJLd223Q",
        "outputId": "0562d3ff-5c8d-4c60-b7de-0dff87b9ddf5"
      },
      "execution_count": 97,
      "outputs": [
        {
          "output_type": "stream",
          "name": "stdout",
          "text": [
            "MLPClassifier(alpha=1, hidden_layer_sizes=(50, 50, 50), max_iter=10000,\n",
            "              solver='lbfgs')\n"
          ]
        }
      ]
    },
    {
      "cell_type": "code",
      "source": [
        "print(mlp\n",
        "      .score(X_test_norm, Y_test))"
      ],
      "metadata": {
        "colab": {
          "base_uri": "https://localhost:8080/"
        },
        "id": "JpjQMsiP3eX0",
        "outputId": "4345aac0-7728-4b4e-a006-7a50ddd8d69a"
      },
      "execution_count": 98,
      "outputs": [
        {
          "output_type": "stream",
          "name": "stdout",
          "text": [
            "0.7181208053691275\n"
          ]
        }
      ]
    },
    {
      "cell_type": "code",
      "source": [
        "print(mlp\n",
        "      .score(X_train_norm, Y_train))"
      ],
      "metadata": {
        "colab": {
          "base_uri": "https://localhost:8080/"
        },
        "id": "ZPptknOvAw-4",
        "outputId": "cc2e7b9b-a31a-4642-b2b4-2831469b1f5e"
      },
      "execution_count": 99,
      "outputs": [
        {
          "output_type": "stream",
          "name": "stdout",
          "text": [
            "0.3624161073825503\n"
          ]
        }
      ]
    },
    {
      "cell_type": "code",
      "source": [
        "from sklearn.metrics import classification_report\n",
        "\n",
        "y_pred = mlp.predict(X_test_norm)\n",
        "\n",
        "[print(classification_report(Y_test,y_pred))]"
      ],
      "metadata": {
        "colab": {
          "base_uri": "https://localhost:8080/"
        },
        "id": "AGNLhj5Z-JiN",
        "outputId": "c3db515a-211e-4ff6-d992-f7fb0e8eb991"
      },
      "execution_count": 100,
      "outputs": [
        {
          "output_type": "stream",
          "name": "stdout",
          "text": [
            "              precision    recall  f1-score   support\n",
            "\n",
            "        0-50       0.75      0.80      0.78       134\n",
            "     100-150       0.71      0.73      0.72        62\n",
            "     150-200       1.00      0.06      0.12        16\n",
            "     200-330       1.00      0.50      0.67         2\n",
            "      50-100       0.66      0.71      0.68        83\n",
            "        >330       1.00      1.00      1.00         1\n",
            "\n",
            "    accuracy                           0.72       298\n",
            "   macro avg       0.85      0.63      0.66       298\n",
            "weighted avg       0.73      0.72      0.70       298\n",
            "\n"
          ]
        },
        {
          "output_type": "execute_result",
          "data": {
            "text/plain": [
              "[None]"
            ]
          },
          "metadata": {},
          "execution_count": 100
        }
      ]
    },
    {
      "cell_type": "code",
      "source": [],
      "metadata": {
        "id": "F91f3kIP__wr"
      },
      "execution_count": null,
      "outputs": []
    },
    {
      "cell_type": "code",
      "source": [
        "!pip install mlxtend "
      ],
      "metadata": {
        "colab": {
          "base_uri": "https://localhost:8080/"
        },
        "id": "JFXgWnw_mhfm",
        "outputId": "8818c6ad-ac7a-4a81-c0b0-47609ed3954f"
      },
      "execution_count": null,
      "outputs": [
        {
          "output_type": "stream",
          "name": "stdout",
          "text": [
            "Looking in indexes: https://pypi.org/simple, https://us-python.pkg.dev/colab-wheels/public/simple/\n",
            "Requirement already satisfied: mlxtend in /usr/local/lib/python3.7/dist-packages (0.14.0)\n",
            "Requirement already satisfied: numpy>=1.10.4 in /usr/local/lib/python3.7/dist-packages (from mlxtend) (1.21.6)\n",
            "Requirement already satisfied: matplotlib>=1.5.1 in /usr/local/lib/python3.7/dist-packages (from mlxtend) (3.2.2)\n",
            "Requirement already satisfied: scipy>=0.17 in /usr/local/lib/python3.7/dist-packages (from mlxtend) (1.7.3)\n",
            "Requirement already satisfied: pandas>=0.17.1 in /usr/local/lib/python3.7/dist-packages (from mlxtend) (1.3.5)\n",
            "Requirement already satisfied: scikit-learn>=0.18 in /usr/local/lib/python3.7/dist-packages (from mlxtend) (1.0.2)\n",
            "Requirement already satisfied: setuptools in /usr/local/lib/python3.7/dist-packages (from mlxtend) (57.4.0)\n",
            "Requirement already satisfied: pyparsing!=2.0.4,!=2.1.2,!=2.1.6,>=2.0.1 in /usr/local/lib/python3.7/dist-packages (from matplotlib>=1.5.1->mlxtend) (3.0.9)\n",
            "Requirement already satisfied: python-dateutil>=2.1 in /usr/local/lib/python3.7/dist-packages (from matplotlib>=1.5.1->mlxtend) (2.8.2)\n",
            "Requirement already satisfied: kiwisolver>=1.0.1 in /usr/local/lib/python3.7/dist-packages (from matplotlib>=1.5.1->mlxtend) (1.4.4)\n",
            "Requirement already satisfied: cycler>=0.10 in /usr/local/lib/python3.7/dist-packages (from matplotlib>=1.5.1->mlxtend) (0.11.0)\n",
            "Requirement already satisfied: typing-extensions in /usr/local/lib/python3.7/dist-packages (from kiwisolver>=1.0.1->matplotlib>=1.5.1->mlxtend) (4.1.1)\n",
            "Requirement already satisfied: pytz>=2017.3 in /usr/local/lib/python3.7/dist-packages (from pandas>=0.17.1->mlxtend) (2022.6)\n",
            "Requirement already satisfied: six>=1.5 in /usr/local/lib/python3.7/dist-packages (from python-dateutil>=2.1->matplotlib>=1.5.1->mlxtend) (1.15.0)\n",
            "Requirement already satisfied: joblib>=0.11 in /usr/local/lib/python3.7/dist-packages (from scikit-learn>=0.18->mlxtend) (1.2.0)\n",
            "Requirement already satisfied: threadpoolctl>=2.0.0 in /usr/local/lib/python3.7/dist-packages (from scikit-learn>=0.18->mlxtend) (3.1.0)\n"
          ]
        }
      ]
    },
    {
      "cell_type": "code",
      "source": [
        "from matplotlib.colors import ListedColormap\n",
        "import matplotlib.pyplot as plt\n",
        "import warnings\n",
        "from mlxtend.plotting import plot_decision_regions\n",
        "import numpy as np\n",
        "\n",
        "\n",
        "fig = plt.figure(figsize=(10,10))\n",
        "plot_decision_regions(X_train_norm, Y_train.ravel(), clf=clf_ob,legend = 2)\n",
        "plt.legend(loc='upper left')\n",
        "plt.tight_layout()\n",
        "plt.show()"
      ],
      "metadata": {
        "colab": {
          "base_uri": "https://localhost:8080/",
          "height": 398
        },
        "id": "hkSmoWq1lbDZ",
        "outputId": "bbac2a4a-e37f-4665-ee00-93fbdadf7b66"
      },
      "execution_count": null,
      "outputs": [
        {
          "output_type": "error",
          "ename": "ValueError",
          "evalue": "ignored",
          "traceback": [
            "\u001b[0;31m---------------------------------------------------------------------------\u001b[0m",
            "\u001b[0;31mValueError\u001b[0m                                Traceback (most recent call last)",
            "\u001b[0;32m<ipython-input-33-82f4ca206537>\u001b[0m in \u001b[0;36m<module>\u001b[0;34m\u001b[0m\n\u001b[1;32m      7\u001b[0m \u001b[0;34m\u001b[0m\u001b[0m\n\u001b[1;32m      8\u001b[0m \u001b[0mfig\u001b[0m \u001b[0;34m=\u001b[0m \u001b[0mplt\u001b[0m\u001b[0;34m.\u001b[0m\u001b[0mfigure\u001b[0m\u001b[0;34m(\u001b[0m\u001b[0mfigsize\u001b[0m\u001b[0;34m=\u001b[0m\u001b[0;34m(\u001b[0m\u001b[0;36m10\u001b[0m\u001b[0;34m,\u001b[0m\u001b[0;36m10\u001b[0m\u001b[0;34m)\u001b[0m\u001b[0;34m)\u001b[0m\u001b[0;34m\u001b[0m\u001b[0;34m\u001b[0m\u001b[0m\n\u001b[0;32m----> 9\u001b[0;31m \u001b[0mplot_decision_regions\u001b[0m\u001b[0;34m(\u001b[0m\u001b[0mX_train_norm\u001b[0m\u001b[0;34m,\u001b[0m \u001b[0mY_train\u001b[0m\u001b[0;34m.\u001b[0m\u001b[0mravel\u001b[0m\u001b[0;34m(\u001b[0m\u001b[0;34m)\u001b[0m\u001b[0;34m,\u001b[0m \u001b[0mclf\u001b[0m\u001b[0;34m=\u001b[0m\u001b[0mclf_ob\u001b[0m\u001b[0;34m,\u001b[0m\u001b[0mlegend\u001b[0m \u001b[0;34m=\u001b[0m \u001b[0;36m2\u001b[0m\u001b[0;34m)\u001b[0m\u001b[0;34m\u001b[0m\u001b[0;34m\u001b[0m\u001b[0m\n\u001b[0m\u001b[1;32m     10\u001b[0m \u001b[0mplt\u001b[0m\u001b[0;34m.\u001b[0m\u001b[0mlegend\u001b[0m\u001b[0;34m(\u001b[0m\u001b[0mloc\u001b[0m\u001b[0;34m=\u001b[0m\u001b[0;34m'upper left'\u001b[0m\u001b[0;34m)\u001b[0m\u001b[0;34m\u001b[0m\u001b[0;34m\u001b[0m\u001b[0m\n\u001b[1;32m     11\u001b[0m \u001b[0mplt\u001b[0m\u001b[0;34m.\u001b[0m\u001b[0mtight_layout\u001b[0m\u001b[0;34m(\u001b[0m\u001b[0;34m)\u001b[0m\u001b[0;34m\u001b[0m\u001b[0;34m\u001b[0m\u001b[0m\n",
            "\u001b[0;32m/usr/local/lib/python3.7/dist-packages/mlxtend/plotting/decision_regions.py\u001b[0m in \u001b[0;36mplot_decision_regions\u001b[0;34m(X, y, clf, feature_index, filler_feature_values, filler_feature_ranges, ax, X_highlight, res, legend, hide_spines, markers, colors, scatter_kwargs, contourf_kwargs, scatter_highlight_kwargs)\u001b[0m\n\u001b[1;32m    127\u001b[0m     \"\"\"\n\u001b[1;32m    128\u001b[0m \u001b[0;34m\u001b[0m\u001b[0m\n\u001b[0;32m--> 129\u001b[0;31m     \u001b[0mcheck_Xy\u001b[0m\u001b[0;34m(\u001b[0m\u001b[0mX\u001b[0m\u001b[0;34m,\u001b[0m \u001b[0my\u001b[0m\u001b[0;34m,\u001b[0m \u001b[0my_int\u001b[0m\u001b[0;34m=\u001b[0m\u001b[0;32mTrue\u001b[0m\u001b[0;34m)\u001b[0m  \u001b[0;31m# Validate X and y arrays\u001b[0m\u001b[0;34m\u001b[0m\u001b[0;34m\u001b[0m\u001b[0m\n\u001b[0m\u001b[1;32m    130\u001b[0m     \u001b[0mdim\u001b[0m \u001b[0;34m=\u001b[0m \u001b[0mX\u001b[0m\u001b[0;34m.\u001b[0m\u001b[0mshape\u001b[0m\u001b[0;34m[\u001b[0m\u001b[0;36m1\u001b[0m\u001b[0;34m]\u001b[0m\u001b[0;34m\u001b[0m\u001b[0;34m\u001b[0m\u001b[0m\n\u001b[1;32m    131\u001b[0m \u001b[0;34m\u001b[0m\u001b[0m\n",
            "\u001b[0;32m/usr/local/lib/python3.7/dist-packages/mlxtend/utils/checking.py\u001b[0m in \u001b[0;36mcheck_Xy\u001b[0;34m(X, y, y_int)\u001b[0m\n\u001b[1;32m     21\u001b[0m         raise ValueError('y must be an integer array. Found %s. '\n\u001b[1;32m     22\u001b[0m                          \u001b[0;34m'Try passing the array as y.astype(np.integer)'\u001b[0m\u001b[0;34m\u001b[0m\u001b[0;34m\u001b[0m\u001b[0m\n\u001b[0;32m---> 23\u001b[0;31m                          % y.dtype)\n\u001b[0m\u001b[1;32m     24\u001b[0m \u001b[0;34m\u001b[0m\u001b[0m\n\u001b[1;32m     25\u001b[0m     \u001b[0;32mif\u001b[0m \u001b[0;32mnot\u001b[0m \u001b[0;34m(\u001b[0m\u001b[0;34m'float'\u001b[0m \u001b[0;32min\u001b[0m \u001b[0mstr\u001b[0m\u001b[0;34m(\u001b[0m\u001b[0mX\u001b[0m\u001b[0;34m.\u001b[0m\u001b[0mdtype\u001b[0m\u001b[0;34m)\u001b[0m \u001b[0;32mor\u001b[0m \u001b[0;34m'int'\u001b[0m \u001b[0;32min\u001b[0m \u001b[0mstr\u001b[0m\u001b[0;34m(\u001b[0m\u001b[0mX\u001b[0m\u001b[0;34m.\u001b[0m\u001b[0mdtype\u001b[0m\u001b[0;34m)\u001b[0m\u001b[0;34m)\u001b[0m\u001b[0;34m:\u001b[0m\u001b[0;34m\u001b[0m\u001b[0;34m\u001b[0m\u001b[0m\n",
            "\u001b[0;31mValueError\u001b[0m: y must be an integer array. Found object. Try passing the array as y.astype(np.integer)"
          ]
        },
        {
          "output_type": "display_data",
          "data": {
            "text/plain": [
              "<Figure size 720x720 with 0 Axes>"
            ]
          },
          "metadata": {}
        }
      ]
    },
    {
      "cell_type": "code",
      "source": [
        "print(clf_ob.score(X_test_norm, Y_test))\n",
        "#print(rfc_ob.score(X_test_norm, Y_test))\n",
        "#print(mlp.score(X_test_norm, Y_test))\n",
        "#print(cnb.score(X_test_norm, Y_test))\n",
        "print(km.score(X_test_norm, Y_test))\n",
        "print(dt.score(X_test_norm, Y_test))\n",
        "print(lg.score(X_test_norm, Y_test))\n",
        "print(sgb.score(X_test_norm, Y_test))\n",
        "print(eln.score(X_test_norm, Y_test))"
      ],
      "metadata": {
        "colab": {
          "base_uri": "https://localhost:8080/",
          "height": 253
        },
        "id": "7RfQVtVHSDoP",
        "outputId": "d8dcfe6f-c3b4-4cea-c1f3-33eae341c6f4"
      },
      "execution_count": null,
      "outputs": [
        {
          "output_type": "stream",
          "name": "stdout",
          "text": [
            "0.4463087248322148\n"
          ]
        },
        {
          "output_type": "error",
          "ename": "NameError",
          "evalue": "ignored",
          "traceback": [
            "\u001b[0;31m---------------------------------------------------------------------------\u001b[0m",
            "\u001b[0;31mNameError\u001b[0m                                 Traceback (most recent call last)",
            "\u001b[0;32m<ipython-input-30-d131cf60ee1e>\u001b[0m in \u001b[0;36m<module>\u001b[0;34m\u001b[0m\n\u001b[1;32m      3\u001b[0m \u001b[0;31m#print(mlp.score(X_test_norm, Y_test))\u001b[0m\u001b[0;34m\u001b[0m\u001b[0;34m\u001b[0m\u001b[0;34m\u001b[0m\u001b[0m\n\u001b[1;32m      4\u001b[0m \u001b[0;31m#print(cnb.score(X_test_norm, Y_test))\u001b[0m\u001b[0;34m\u001b[0m\u001b[0;34m\u001b[0m\u001b[0;34m\u001b[0m\u001b[0m\n\u001b[0;32m----> 5\u001b[0;31m \u001b[0mprint\u001b[0m\u001b[0;34m(\u001b[0m\u001b[0mkm\u001b[0m\u001b[0;34m.\u001b[0m\u001b[0mscore\u001b[0m\u001b[0;34m(\u001b[0m\u001b[0mX_test_norm\u001b[0m\u001b[0;34m,\u001b[0m \u001b[0mY_test\u001b[0m\u001b[0;34m)\u001b[0m\u001b[0;34m)\u001b[0m\u001b[0;34m\u001b[0m\u001b[0;34m\u001b[0m\u001b[0m\n\u001b[0m\u001b[1;32m      6\u001b[0m \u001b[0mprint\u001b[0m\u001b[0;34m(\u001b[0m\u001b[0mdt\u001b[0m\u001b[0;34m.\u001b[0m\u001b[0mscore\u001b[0m\u001b[0;34m(\u001b[0m\u001b[0mX_test_norm\u001b[0m\u001b[0;34m,\u001b[0m \u001b[0mY_test\u001b[0m\u001b[0;34m)\u001b[0m\u001b[0;34m)\u001b[0m\u001b[0;34m\u001b[0m\u001b[0;34m\u001b[0m\u001b[0m\n\u001b[1;32m      7\u001b[0m \u001b[0mprint\u001b[0m\u001b[0;34m(\u001b[0m\u001b[0mlg\u001b[0m\u001b[0;34m.\u001b[0m\u001b[0mscore\u001b[0m\u001b[0;34m(\u001b[0m\u001b[0mX_test_norm\u001b[0m\u001b[0;34m,\u001b[0m \u001b[0mY_test\u001b[0m\u001b[0;34m)\u001b[0m\u001b[0;34m)\u001b[0m\u001b[0;34m\u001b[0m\u001b[0;34m\u001b[0m\u001b[0m\n",
            "\u001b[0;31mNameError\u001b[0m: name 'km' is not defined"
          ]
        }
      ]
    },
    {
      "cell_type": "code",
      "source": [
        "print(regressor.score(X_test_norm,Y_test.ravel()))"
      ],
      "metadata": {
        "colab": {
          "base_uri": "https://localhost:8080/",
          "height": 166
        },
        "id": "nklhNUw0L9kB",
        "outputId": "2d177ddb-a7ee-42b4-8cd5-10899f5dd483"
      },
      "execution_count": null,
      "outputs": [
        {
          "output_type": "error",
          "ename": "NameError",
          "evalue": "ignored",
          "traceback": [
            "\u001b[0;31m---------------------------------------------------------------------------\u001b[0m",
            "\u001b[0;31mNameError\u001b[0m                                 Traceback (most recent call last)",
            "\u001b[0;32m<ipython-input-31-16f89588af1e>\u001b[0m in \u001b[0;36m<module>\u001b[0;34m\u001b[0m\n\u001b[0;32m----> 1\u001b[0;31m \u001b[0mprint\u001b[0m\u001b[0;34m(\u001b[0m\u001b[0mregressor\u001b[0m\u001b[0;34m.\u001b[0m\u001b[0mscore\u001b[0m\u001b[0;34m(\u001b[0m\u001b[0mX_test_norm\u001b[0m\u001b[0;34m,\u001b[0m\u001b[0mY_test\u001b[0m\u001b[0;34m.\u001b[0m\u001b[0mravel\u001b[0m\u001b[0;34m(\u001b[0m\u001b[0;34m)\u001b[0m\u001b[0;34m)\u001b[0m\u001b[0;34m)\u001b[0m\u001b[0;34m\u001b[0m\u001b[0;34m\u001b[0m\u001b[0m\n\u001b[0m",
            "\u001b[0;31mNameError\u001b[0m: name 'regressor' is not defined"
          ]
        }
      ]
    },
    {
      "cell_type": "code",
      "source": [
        "\n",
        "from sklearn.ensemble import RandomForestClassifier, RandomForestRegressor\n",
        "from sklearn.model_selection import cross_val_score\n",
        "from sklearn import svm\n",
        "from sklego.meta import ZeroInflatedRegressor\n",
        "\n",
        "from sklearn.neural_network import MLPRegressor\n",
        "\n",
        "mlp_reg = MLPRegressor(\n",
        "                       max_iter = 20000,activation = 'relu',\n",
        "                       solver = 'adam')\n",
        "\n",
        "mlp_reg.fit(X_train_norm, Y_train.ravel())\n"
      ],
      "metadata": {
        "id": "TxWihhCQ9luA"
      },
      "execution_count": null,
      "outputs": []
    },
    {
      "cell_type": "code",
      "source": [
        "y_pred = newReg.predict(X_test_norm)\n",
        "#print(Y_train)\n",
        "df_temp = pd.DataFrame({'Actual': Y_test.ravel(), 'Predicted': y_pred})\n",
        "df_temp.head()\n",
        "\n",
        "df_temp = df_temp.head(30)\n",
        "df_temp.plot(kind='bar',figsize=(10,6))\n",
        "plt.grid(which='major', linestyle='-', linewidth='0.5', color='green')\n",
        "plt.grid(which='minor', linestyle=':', linewidth='0.5', color='black')\n",
        "plt.show()"
      ],
      "metadata": {
        "id": "vC09_y95QKx9"
      },
      "execution_count": null,
      "outputs": []
    },
    {
      "cell_type": "code",
      "source": [
        "mlp_reg.score(X_test_norm,Y_test)"
      ],
      "metadata": {
        "id": "bIZaNHLmS9lx"
      },
      "execution_count": null,
      "outputs": []
    },
    {
      "cell_type": "code",
      "source": [
        "from sklearn.metrics import mean_squared_error\n",
        "import numpy as np\n"
      ],
      "metadata": {
        "id": "nESMNCfjvEc3"
      },
      "execution_count": null,
      "outputs": []
    },
    {
      "cell_type": "code",
      "source": [
        "#y_pred = zir.predict(X_test)\n",
        "#print(RFG_qb.score(X_sc.transform(X_test),Y_sc.transform(Y_test)))\n",
        "plt.scatter(y_pred, Y_test.ravel())\n",
        "plt.xlabel(\"Y-Pred\")\n",
        "plt.ylabel(\"Y-test\")\n",
        "plt.show()"
      ],
      "metadata": {
        "id": "G9o_mnrKzIIe"
      },
      "execution_count": null,
      "outputs": []
    },
    {
      "cell_type": "code",
      "source": [
        "from sklearn.metrics import mean_squared_error, r2_score\n",
        "#qb_svc.score(X_test_norm, Y_test_norm)\n",
        "print('ZIR (RFC+RFR) r²:', cross_val_score(zir, X_test_norm, Y_test_norm.ravel()).mean())\n",
        "print('RFR r²:', cross_val_score(RandomForestRegressor(random_state=0), X_test_norm, Y_test_norm.ravel()).mean())\n",
        "#print(rfr_qb.score(X_test_norm,Y_test_norm))\n",
        "mse = mean_squared_error(Y_test_norm, y_pred)\n",
        "r2 = r2_score(Y_test_norm,y_pred)\n",
        "print('R2 = ', r2 )\n",
        "rmse = mse**.5\n",
        "print(mse)\n",
        "print(rmse)"
      ],
      "metadata": {
        "id": "ifkqLOEsKpRZ"
      },
      "execution_count": null,
      "outputs": []
    },
    {
      "cell_type": "code",
      "source": [
        "len(X)"
      ],
      "metadata": {
        "id": "jLszg5LBzdmp"
      },
      "execution_count": null,
      "outputs": []
    },
    {
      "cell_type": "code",
      "source": [
        "LGB_PARAMS = {\n",
        "    'num_leaves': 1023,\n",
        "    'objective': 'binary',\n",
        "    'metric': 'rmse'\n",
        "}"
      ],
      "metadata": {
        "id": "bzuFQLHIwy18"
      },
      "execution_count": null,
      "outputs": []
    },
    {
      "cell_type": "code",
      "source": [
        "train_lgb = lgb.Dataset(X_train, label=Y_train.ravel())\n",
        "test_lgb = lgb.Dataset(X_test, label=Y_test.ravel(), reference=train_lgb)"
      ],
      "metadata": {
        "id": "IeX_-YoHv-BY"
      },
      "execution_count": null,
      "outputs": []
    },
    {
      "cell_type": "code",
      "source": [
        "lgb_model = lgb.train(LGB_PARAMS, train_lgb, num_boost_round=20, valid_sets=[test_lgb])"
      ],
      "metadata": {
        "colab": {
          "base_uri": "https://localhost:8080/",
          "height": 166
        },
        "id": "69ifatjrxEXf",
        "outputId": "fc3a0f51-d48b-4b91-fb64-09ad17c9fdb4"
      },
      "execution_count": null,
      "outputs": [
        {
          "output_type": "error",
          "ename": "NameError",
          "evalue": "ignored",
          "traceback": [
            "\u001b[0;31m---------------------------------------------------------------------------\u001b[0m",
            "\u001b[0;31mNameError\u001b[0m                                 Traceback (most recent call last)",
            "\u001b[0;32m<ipython-input-29-a746cf6095b8>\u001b[0m in \u001b[0;36m<module>\u001b[0;34m\u001b[0m\n\u001b[0;32m----> 1\u001b[0;31m \u001b[0mlgb_model\u001b[0m \u001b[0;34m=\u001b[0m \u001b[0mlgb\u001b[0m\u001b[0;34m.\u001b[0m\u001b[0mtrain\u001b[0m\u001b[0;34m(\u001b[0m\u001b[0mLGB_PARAMS\u001b[0m\u001b[0;34m,\u001b[0m \u001b[0mtrain_lgb\u001b[0m\u001b[0;34m,\u001b[0m \u001b[0mnum_boost_round\u001b[0m\u001b[0;34m=\u001b[0m\u001b[0;36m20\u001b[0m\u001b[0;34m,\u001b[0m \u001b[0mvalid_sets\u001b[0m\u001b[0;34m=\u001b[0m\u001b[0;34m[\u001b[0m\u001b[0mtest_lgb\u001b[0m\u001b[0;34m]\u001b[0m\u001b[0;34m)\u001b[0m\u001b[0;34m\u001b[0m\u001b[0;34m\u001b[0m\u001b[0m\n\u001b[0m",
            "\u001b[0;31mNameError\u001b[0m: name 'LGB_PARAMS' is not defined"
          ]
        }
      ]
    },
    {
      "cell_type": "code",
      "source": [],
      "metadata": {
        "id": "GX6MeLMayoP3"
      },
      "execution_count": null,
      "outputs": []
    }
  ]
}